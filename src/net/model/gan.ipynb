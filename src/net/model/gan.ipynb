{
 "cells": [
  {
   "cell_type": "markdown",
   "metadata": {},
   "source": [
    "# 导入环境"
   ]
  },
  {
   "cell_type": "code",
   "execution_count": null,
   "metadata": {
    "vscode": {
     "languageId": "plaintext"
    }
   },
   "outputs": [],
   "source": [
    "import torch\n",
    "from torch import optim\n",
    "from torch import nn\n",
    "import os\n",
    "\n",
    "import datetime\n",
    "import time\n",
    "from tensorboardX import SummaryWriter\n",
    "import matplotlib.pyplot as plt\n",
    "import numpy as np\n",
    "\n",
    "from tqdm import tqdm\n",
    "import scipy.ndimage as nd\n",
    "import scipy.io as io\n",
    "import matplotlib\n",
    "\n",
    "import skimage.measure as sk\n",
    "from mpl_toolkits import mplot3d\n",
    "import matplotlib.gridspec as gridspec\n",
    "from torch.utils import data\n",
    "from torch.autograd import Variable\n",
    "import pickle\n",
    "\n",
    "from collections import OrderedDict\n",
    "import binvox_rw as binvox\n",
    "\n",
    "from model import net_G, net_D\n",
    "import params\n",
    "import argparse\n"
   ]
  },
  {
   "cell_type": "code",
   "execution_count": null,
   "metadata": {
    "vscode": {
     "languageId": "plaintext"
    }
   },
   "outputs": [],
   "source": [
    "os.getcwd()\n"
   ]
  },
  {
   "cell_type": "code",
   "execution_count": null,
   "metadata": {
    "vscode": {
     "languageId": "plaintext"
    }
   },
   "outputs": [],
   "source": [
    "# PARAMS\n",
    "# Example: Setting some hyperparameters and paths (assuming this based on usual practice)\n",
    "params = {\n",
    "    \"batch_size\": 64,              \n",
    "    \"learning_rate\": 0.0002,       \n",
    "    \"epochs\": 100,                 \n",
    "    \"device\": torch.device(\"cuda\" if torch.cuda.is_available() else \"cpu\"), \n",
    "    \"model_save_path\": \"./models\", \n",
    "    \"data_path\": \"./data\",        \n",
    "    # Other hyperparameters...\n",
    "}"
   ]
  },
  {
   "cell_type": "code",
   "execution_count": null,
   "metadata": {
    "vscode": {
     "languageId": "plaintext"
    }
   },
   "outputs": [],
   "source": [
    "# Initialize generator and discriminator\n",
    "net_G = net_G().to(params[\"device\"])  # 将生成器加载到指定设备\n",
    "net_D = net_D().to(params[\"device\"])  # 将判别器加载到指定设备\n",
    "\n",
    "# Define loss function\n",
    "criterion = nn.BCELoss()  # 二分类交叉熵损失，用于判断真假\n",
    "\n",
    "# Define optimizers\n",
    "optimizer_G = optim.Adam(net_G.parameters(), lr=params[\"learning_rate\"])  # Adam优化器用于生成器\n",
    "optimizer_D = optim.Adam(net_D.parameters(), lr=params[\"learning_rate\"])  # Adam优化器用于判别器\n"
   ]
  },
  {
   "cell_type": "code",
   "execution_count": null,
   "metadata": {
    "vscode": {
     "languageId": "plaintext"
    }
   },
   "outputs": [],
   "source": [
    "# Load dataset\n",
    "dataset = ...  # 加载数据集的逻辑（例如，使用torchvision.datasets等）\n",
    "dataloader = torch.utils.data.DataLoader(dataset, batch_size=params[\"batch_size\"], shuffle=True)\n",
    "\n",
    "# Example: ImageFolder\n",
    "# from torchvision import datasets, transforms\n",
    "# transform = transforms.Compose([\n",
    "#     transforms.Resize(64),\n",
    "#     transforms.ToTensor(),\n",
    "#     transforms.Normalize([0.5], [0.5])\n",
    "# ])\n",
    "# dataset = datasets.ImageFolder(root=params[\"data_path\"], transform=transform)\n",
    "# dataloader = torch.utils.data.DataLoader(dataset, batch_size=params[\"batch_size\"], shuffle=True)\n"
   ]
  },
  {
   "cell_type": "code",
   "execution_count": null,
   "metadata": {
    "vscode": {
     "languageId": "plaintext"
    }
   },
   "outputs": [],
   "source": [
    "for epoch in range(params[\"epochs\"]):\n",
    "    for i, data in enumerate(dataloader):\n",
    "        # 训练判别器\n",
    "        optimizer_D.zero_grad()\n",
    "        real_imgs = data[0].to(params[\"device\"])\n",
    "        real_labels = torch.ones(real_imgs.size(0), 1).to(params[\"device\"])\n",
    "        fake_labels = torch.zeros(real_imgs.size(0), 1).to(params[\"device\"])\n",
    "        \n",
    "        outputs = net_D(real_imgs)\n",
    "        d_loss_real = criterion(outputs, real_labels)\n",
    "        d_loss_real.backward()\n",
    "        \n",
    "        z = torch.randn(real_imgs.size(0), 100).to(params[\"device\"])  # 随机噪声输入生成器\n",
    "        fake_imgs = net_G(z)\n",
    "        outputs = net_D(fake_imgs.detach())\n",
    "        d_loss_fake = criterion(outputs, fake_labels)\n",
    "        d_loss_fake.backward()\n",
    "        \n",
    "        optimizer_D.step()\n",
    "\n",
    "        # 训练生成器\n",
    "        optimizer_G.zero_grad()\n",
    "        outputs = net_D(fake_imgs)\n",
    "        g_loss = criterion(outputs, real_labels)  # 生成器希望判别器认为假图像为真\n",
    "        g_loss.backward()\n",
    "        optimizer_G.step()\n",
    "        \n",
    "        # 打印和记录损失\n",
    "        if i % 50 == 0:\n",
    "            print(f\"Epoch [{epoch}/{params['epochs']}], Step [{i}/{len(dataloader)}], d_loss: {d_loss_real.item() + d_loss_fake.item()}, g_loss: {g_loss.item()}\")\n"
   ]
  }
 ],
 "metadata": {
  "language_info": {
   "name": "python"
  }
 },
 "nbformat": 4,
 "nbformat_minor": 2
}
